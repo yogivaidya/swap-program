{
 "cells": [
  {
   "cell_type": "markdown",
   "metadata": {},
   "source": [
    "Using Naive Approach"
   ]
  },
  {
   "cell_type": "code",
   "execution_count": 1,
   "metadata": {},
   "outputs": [
    {
     "name": "stdout",
     "output_type": "stream",
     "text": [
      "Value of X:  50\n",
      "Value of Y: 10\n"
     ]
    }
   ],
   "source": [
    "x=10\n",
    "y=50\n",
    "temp=x\n",
    "x=y\n",
    "y=temp\n",
    "print(\"Value of X: \",x)\n",
    "print(\"Value of Y:\", y)"
   ]
  },
  {
   "cell_type": "markdown",
   "metadata": {},
   "source": [
    "Using Comma Operator"
   ]
  },
  {
   "cell_type": "code",
   "execution_count": 2,
   "metadata": {},
   "outputs": [
    {
     "name": "stdout",
     "output_type": "stream",
     "text": [
      "Value of X:  50\n",
      "Value of Y: 10\n"
     ]
    }
   ],
   "source": [
    "x=10\n",
    "y=50\n",
    "x,y=y,x\n",
    "print(\"Value of X: \",x)\n",
    "print(\"Value of Y:\", y)"
   ]
  },
  {
   "cell_type": "markdown",
   "metadata": {},
   "source": [
    "Using XOR"
   ]
  },
  {
   "cell_type": "code",
   "execution_count": 3,
   "metadata": {},
   "outputs": [
    {
     "name": "stdout",
     "output_type": "stream",
     "text": [
      "Value of X:  50\n",
      "Value of Y: 10\n"
     ]
    }
   ],
   "source": [
    "x=10\n",
    "y=50\n",
    "x= x^y\n",
    "y= x^y\n",
    "x= x^y\n",
    "print(\"Value of X: \",x)\n",
    "print(\"Value of Y:\", y)"
   ]
  },
  {
   "cell_type": "markdown",
   "metadata": {},
   "source": [
    "Using Arithmetic Operator"
   ]
  },
  {
   "cell_type": "code",
   "execution_count": 4,
   "metadata": {},
   "outputs": [
    {
     "name": "stdout",
     "output_type": "stream",
     "text": [
      "Value of X:  50\n",
      "Value of Y: 10\n"
     ]
    }
   ],
   "source": [
    "x=10\n",
    "y=50\n",
    "x=x+y\n",
    "y=x-y\n",
    "x=x-y\n",
    "print(\"Value of X: \",x)\n",
    "print(\"Value of Y:\", y)"
   ]
  },
  {
   "cell_type": "code",
   "execution_count": null,
   "metadata": {},
   "outputs": [],
   "source": []
  }
 ],
 "metadata": {
  "kernelspec": {
   "display_name": "Python 3",
   "language": "python",
   "name": "python3"
  },
  "language_info": {
   "codemirror_mode": {
    "name": "ipython",
    "version": 3
   },
   "file_extension": ".py",
   "mimetype": "text/x-python",
   "name": "python",
   "nbconvert_exporter": "python",
   "pygments_lexer": "ipython3",
   "version": "3.8.3"
  }
 },
 "nbformat": 4,
 "nbformat_minor": 4
}
